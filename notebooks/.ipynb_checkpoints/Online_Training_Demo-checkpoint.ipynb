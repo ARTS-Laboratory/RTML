{
 "cells": [
  {
   "cell_type": "markdown",
   "metadata": {},
   "source": [
    "# Real-Time Machine Learning of Vibration Signals\n",
    "\n",
    "Paper to be submitted to [IMAC XXXIX](https://sem.org/imac).\n",
    "\n",
    "#### Notebook Author: Ishrat Singh*\n",
    "\\**correspondence to ishrat@cec.sc.edu*\n",
    "\n",
    "This notebook demonstrates how to use the classes in `online_models`for real-time prediction on time series data. Though the class used here is `OnlineMLP`, the same methodology applies for `OnlineLSTM` since both use the methods implemented in `OnlineModelBase` for training and data retrieval."
   ]
  },
  {
   "cell_type": "markdown",
   "metadata": {},
   "source": [
    "We first load a dataset from the `data/` folder using `pandas`. The datasets are acceleration signals\n",
    "that have been experimentally generated using a bench top structural model developed by the [Adaptive Real-Time Systems Laboratory](http://www.me.sc.edu/Research/Downey/) at the University of South Carolina."
   ]
  },
  {
   "cell_type": "code",
   "execution_count": null,
   "metadata": {
    "scrolled": true
   },
   "outputs": [
    {
     "data": {
      "text/plain": [
       "<matplotlib.axes._subplots.AxesSubplot at 0x2368db68d48>"
      ]
     },
     "execution_count": 1,
     "metadata": {},
     "output_type": "execute_result"
    }
   ],
   "source": [
    "import pandas as pd\n",
    "\n",
    "series = pd.read_csv('../data/1S_1STD.csv')[['Time', 'Observation']]\n",
    "\n",
    "series.plot(y='Observation', x='Time', figsize=(15, 3))"
   ]
  },
  {
   "cell_type": "markdown",
   "metadata": {},
   "source": [
    "Next, we resample the dataset to 5% of its original sample rate using the `resample_time_series` function in `benchmark.helpers`."
   ]
  },
  {
   "cell_type": "code",
   "execution_count": null,
   "metadata": {},
   "outputs": [],
   "source": [
    "import sys\n",
    "sys.path.append('..')\n",
    "\n",
    "from benchmark.helpers import resample_time_series\n",
    "\n",
    "print(f'Old sample rate: {series.shape[0] / series[\"Time\"].values[-1]} Hz')\n",
    "\n",
    "resampled, sample_rate = resample_time_series(series, .05)\n",
    "\n",
    "print(f'New sample rate: {sample_rate} Hz')\n",
    "\n",
    "resampled.plot(y='Observation', x='Time', figsize=(15, 3))"
   ]
  },
  {
   "cell_type": "markdown",
   "metadata": {},
   "source": [
    "We then initialize an `OnlineMLP` model and train it on our dataset. `OnlineMLP` accepts a single observation in a time series, making a prediction and updating its internal state each time this is done. Hence, instead of passing in our data as a batch, we feed it each observation one-by-one. Note that the parameters specified are by no means `OnlineMLP`'s optimal parameters for this data (this is discussed in our forthcoming paper), and are just test values."
   ]
  },
  {
   "cell_type": "code",
   "execution_count": null,
   "metadata": {},
   "outputs": [],
   "source": [
    "from online_models import OnlineMLP\n",
    "\n",
    "PARAMS = {\n",
    "    'history_length': 10,\n",
    "    'units': [10],\n",
    "    'epochs': 5,\n",
    "    'forecast_length': 1,\n",
    "    'delay': 0,\n",
    "    'windows': 100,\n",
    "    'timesteps': resampled.shape[0]\n",
    "}\n",
    "\n",
    "onmlp = OnlineMLP(*PARAMS.values(), verbose=True)\n",
    "\n",
    "for _, _, obs in resampled.itertuples():\n",
    "    onmlp.advance_iteration(obs)"
   ]
  },
  {
   "cell_type": "markdown",
   "metadata": {},
   "source": [
    "Now, we obtain every prediction the `OnlineMLP` model has made and their corresponding RMSE values. Note that the number of timesteps in the resampled dataset differs from the number of timesteps in the original dataset -- to compensate for this, we rescale the `Timesteps` column in accordance to the total number of seconds in the original training data."
   ]
  },
  {
   "cell_type": "code",
   "execution_count": null,
   "metadata": {},
   "outputs": [],
   "source": [
    "preds = onmlp.to_df().rename(columns={'Timestep': 'Time'})\n",
    "preds['Time'] = preds['Time'].apply(lambda r: r * (resampled['Time'].values[-1] / resampled.shape[0]))\n",
    "\n",
    "preds.dropna()"
   ]
  },
  {
   "cell_type": "markdown",
   "metadata": {},
   "source": [
    "From here, we plot the predictions the `OnlineMLP` model has made over their true values."
   ]
  },
  {
   "cell_type": "code",
   "execution_count": null,
   "metadata": {},
   "outputs": [],
   "source": [
    "ax1 = preds.plot(y='Observed', x='Time', figsize=(15, 3), color='grey')\n",
    "preds.plot(y='Predicted', x='Time', ax=ax1, color='red')"
   ]
  },
  {
   "cell_type": "markdown",
   "metadata": {},
   "source": [
    "We do the same for its RMSE values. Note that although the spike in `Local RMSE` corresponds to the non-stationary event in our data (as expected), the downward trend in `Cumulative RMSE` indicates that the model's accuracy increases over time."
   ]
  },
  {
   "cell_type": "code",
   "execution_count": null,
   "metadata": {},
   "outputs": [],
   "source": [
    "ax2 = preds.plot(y='Cumulative RMSE', x='Time', figsize=(15, 3), color='blue')\n",
    "preds.plot(y='Local RMSE', x='Time', ax=ax2, color='green')"
   ]
  }
 ],
 "metadata": {
  "kernelspec": {
   "display_name": "Python 3",
   "language": "python",
   "name": "python3"
  },
  "language_info": {
   "codemirror_mode": {
    "name": "ipython",
    "version": 3
   },
   "file_extension": ".py",
   "mimetype": "text/x-python",
   "name": "python",
   "nbconvert_exporter": "python",
   "pygments_lexer": "ipython3",
   "version": "3.7.7"
  }
 },
 "nbformat": 4,
 "nbformat_minor": 4
}
